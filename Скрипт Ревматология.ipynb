{
 "cells": [
  {
   "cell_type": "code",
   "execution_count": 1,
   "id": "3fd17539-471a-4d74-9c92-cc42cc88eca5",
   "metadata": {},
   "outputs": [],
   "source": [
    "import pandas as pd\n",
    "from itertools import product"
   ]
  },
  {
   "cell_type": "code",
   "execution_count": 2,
   "id": "f4c70f5b-101b-4dc7-acb7-6b6cdb621540",
   "metadata": {},
   "outputs": [],
   "source": [
    "# Файл с ранее согласованным планом продаж для каждого МП по каждому SKU\n",
    "plan = pd.read_excel('ОПР.xlsx', sheet_name='План')\n",
    "# Файл со списоком всех регионов РФ\n",
    "regions = pd.read_excel('Регионы.xlsx')\n",
    "# Справочник Регион-ФО\n",
    "fo = pd.read_excel('Регионы.xlsx', sheet_name='Лист2')\n",
    "# Справочник ТМ-Регион\n",
    "tm = pd.read_excel('Регионы.xlsx', sheet_name='Лист3')\n",
    "# Сопоставление регионов из двух разных источников (написаны по-разному)\n",
    "reg_sorex = pd.read_excel('Регионы.xlsx', sheet_name='Лист4')\n",
    "# Справочник Месяц-DFU-Цена\n",
    "price = pd.read_excel('Регионы.xlsx', sheet_name='Лист5')"
   ]
  },
  {
   "cell_type": "markdown",
   "id": "4ea0ac94-501f-494b-a08b-e9f7783d6e9c",
   "metadata": {},
   "source": [
    "В данном направлении продаж (ревматология) медицинские представители (МП) присутствуют не во всех регионах страны. На этапе разработки методологии распределения планов было решено оставить только те регионы, в которых есть МП. Но в дальнейшем выяснилось, что если в файле с планами не указаны какие-то регионы, то факты продаж по этим регионам в отчет не попадают. \n",
    "В переменной all_combinations с помощью декартова произведения создается ДФ, в котором перемножаются все значения дат, регионов и DFU (уникальный код товара). "
   ]
  },
  {
   "cell_type": "code",
   "execution_count": 3,
   "id": "8aaeae25-a8e5-486a-99d1-b06825e3930e",
   "metadata": {},
   "outputs": [],
   "source": [
    "regions = regions['Регион'].tolist()\n",
    "dates = plan['Дата'].unique()\n",
    "dfu = plan['DFU'].unique()\n",
    "all_combinations = pd.DataFrame(product(dates, regions, dfu), columns=['Дата', 'Регион', 'DFU'])"
   ]
  },
  {
   "cell_type": "code",
   "execution_count": 4,
   "id": "62b708d4-5453-4b45-a2c1-a7634cca79dd",
   "metadata": {},
   "outputs": [],
   "source": [
    "dfu = plan[['Бренд', 'Наименование', 'DFU']].drop_duplicates()\n",
    "fo_people = plan[['Регион', 'ТМ', 'МП']].drop_duplicates()"
   ]
  },
  {
   "cell_type": "markdown",
   "id": "5d4a3b0b-1a4b-4808-bef2-c68ee2878f11",
   "metadata": {},
   "source": [
    "К таблице со столбцами Дата, Регион, DFU присоединяем справочники ФО, наименований препаратов, ФИО территориальных менеджеров (ТМ) и ФИО МП, тем самым создаем шаблон файла с планом продаж."
   ]
  },
  {
   "cell_type": "code",
   "execution_count": 5,
   "id": "2bd3c802-1257-47ad-b757-366c2bed131d",
   "metadata": {},
   "outputs": [],
   "source": [
    "all_combinations = all_combinations.merge(dfu, how='left', on='DFU')"
   ]
  },
  {
   "cell_type": "code",
   "execution_count": 6,
   "id": "48fba5ba-57cd-44fa-834a-653a78e2af18",
   "metadata": {},
   "outputs": [],
   "source": [
    "all_combinations = all_combinations.merge(fo_people, how='left', on='Регион')\n",
    "all_combinations = all_combinations.merge(fo, how='left', on='Регион')\n",
    "all_combinations = all_combinations.merge(tm, how='left', on= 'Регион', suffixes=('', '_new'))"
   ]
  },
  {
   "cell_type": "code",
   "execution_count": 7,
   "id": "6f3fb394-26f8-48d9-b208-38bdec820834",
   "metadata": {},
   "outputs": [],
   "source": [
    "all_combinations['ТМ'] = all_combinations['ТМ'].fillna(all_combinations['ТМ_new'])\n",
    "all_combinations.drop(columns=['ТМ_new'], inplace=True)\n",
    "all_combinations['МП'] = all_combinations['МП'].fillna('Нет МП')"
   ]
  },
  {
   "cell_type": "markdown",
   "id": "4f45fe77-1a35-4e78-a71a-c1d07d402578",
   "metadata": {},
   "source": [
    "К основной таблице с планами присоединяем наш шаблон и в столбце \"План, уп\" значения NaN заменяем на 0."
   ]
  },
  {
   "cell_type": "code",
   "execution_count": 8,
   "id": "cce412c0-8ce8-4bd0-84ce-6ad3e6c7d9ee",
   "metadata": {},
   "outputs": [],
   "source": [
    "merge_plan = all_combinations.merge(plan, how='left', on=['Бренд', 'Наименование', 'DFU', 'ФО', 'Регион', 'ТМ', 'МП', 'Дата'])"
   ]
  },
  {
   "cell_type": "code",
   "execution_count": 9,
   "id": "64f5b487-ab29-4e2f-87f5-6e7ea79e0e2a",
   "metadata": {},
   "outputs": [],
   "source": [
    "merge_plan['План,уп']=merge_plan['План,уп'].fillna(0)"
   ]
  },
  {
   "cell_type": "markdown",
   "id": "a823de56-b687-481b-879e-a729499e46f1",
   "metadata": {},
   "source": [
    "Создаем словарь с ФИО МП и датой увольнения. Словарь нужен для того, чтобы планы уволившегося МП переносить на \"Вакансия\", при этом сохраняя историчность."
   ]
  },
  {
   "cell_type": "code",
   "execution_count": 10,
   "id": "0a662642-fe2a-4b5b-b85b-35723dd60702",
   "metadata": {},
   "outputs": [],
   "source": [
    "mp_replacements = {\n",
    "    'МП_1': '2025-02-01',\n",
    "    'МП_2': '2025-03-01',\n",
    "    'МП_3': '2025-03-01',\n",
    "    'МП_4': '2025-03-01',\n",
    "    'МП_5': '2025-03-01',\n",
    "    'МП_6': '2025-04-01'\n",
    "}"
   ]
  },
  {
   "cell_type": "code",
   "execution_count": 11,
   "id": "dadeb59f-b0ff-4fd4-af7e-b53b9ed78133",
   "metadata": {},
   "outputs": [],
   "source": [
    "for mp, start_date in mp_replacements.items():\n",
    "    regions_mp = merge_plan[merge_plan['МП'] == mp]['Регион'].unique()\n",
    "    merge_plan.loc[(merge_plan['Дата'] >= start_date) & \n",
    "                   (merge_plan['Регион'].isin(regions_mp)) & \n",
    "                   (merge_plan['МП'] == mp), 'МП'] = 'Вакансия'"
   ]
  },
  {
   "cell_type": "markdown",
   "id": "64cd71fe-c0d2-4158-9e48-39d328e0aedb",
   "metadata": {},
   "source": [
    "С апреля у ТМ_1 в дополнение к существующим МП появляется дополнительная вакансия. Нужно равномерно перераспределить планы в упаковках для всех МП и вакансии данного ТМ в их регионах. Историчность сохраняем."
   ]
  },
  {
   "cell_type": "code",
   "execution_count": 12,
   "id": "9857df75-7091-4bf4-96e3-271fa436cf01",
   "metadata": {},
   "outputs": [],
   "source": [
    "merge_plan.loc[(merge_plan['Дата'] >= '2025-04-01') &\n",
    "               (merge_plan['ТМ']=='ТМ_1') &\n",
    "               (merge_plan['Регион'] == 'Калининградская область'),\n",
    "                'МП'\n",
    "]='Вакансия'"
   ]
  },
  {
   "cell_type": "code",
   "execution_count": 13,
   "id": "d14ff546-85d0-4851-b01d-b86956785a28",
   "metadata": {},
   "outputs": [],
   "source": [
    "mp = merge_plan[(merge_plan['ТМ'] == 'ТМ_1') & (merge_plan['МП'] != 'Нет МП')][['ТМ', 'МП']]\n",
    "mp = mp.drop_duplicates()"
   ]
  },
  {
   "cell_type": "code",
   "execution_count": 14,
   "id": "2f211465-e8fd-40eb-bdca-cc0c1a3f4090",
   "metadata": {},
   "outputs": [],
   "source": [
    "reg = ['Калининградская область', 'Санкт-Петербург', 'Ленинградская область']"
   ]
  },
  {
   "cell_type": "code",
   "execution_count": 15,
   "id": "dca7cb3a-2bec-42d0-9fa4-ada59a4672d5",
   "metadata": {},
   "outputs": [],
   "source": [
    "vacancy = merge_plan.loc[(merge_plan['Дата'] >= '2025-04-01') &\n",
    "               (merge_plan['ТМ']=='ТМ_1') &\n",
    "               (merge_plan['Регион'].isin(reg))]"
   ]
  },
  {
   "cell_type": "code",
   "execution_count": 16,
   "id": "27281651-1c39-48b8-9664-da2551cbe8e3",
   "metadata": {},
   "outputs": [],
   "source": [
    "count_mp = vacancy['МП'].nunique()\n",
    "vacancy = vacancy.groupby(by=['Дата','DFU','Регион', 'ТМ'], as_index=False)['План,уп'].sum()\n"
   ]
  },
  {
   "cell_type": "code",
   "execution_count": 18,
   "id": "92799504-0351-4cd8-aa05-38bdb3d7d0bc",
   "metadata": {},
   "outputs": [],
   "source": [
    "vacancy['План 1_МП'] = vacancy['План,уп'] / count_mp"
   ]
  },
  {
   "cell_type": "code",
   "execution_count": 19,
   "id": "58b26d43-990d-404a-bb92-c11760919b42",
   "metadata": {},
   "outputs": [],
   "source": [
    "def user_round(x):\n",
    "    if x - int(x) > 0.5:\n",
    "        return int(x) + 1\n",
    "    else:\n",
    "        return int(x)\n",
    "# Функция для округления планов в упаковках"
   ]
  },
  {
   "cell_type": "markdown",
   "id": "d849cfa2-e018-44fd-9982-6dd0c1804032",
   "metadata": {},
   "source": [
    "Создаем дф по образу и подобию нашего действующего плана, но уже с перераспределенными упаковками для конкретного ТМ."
   ]
  },
  {
   "cell_type": "code",
   "execution_count": 20,
   "id": "dabd03d0-4a1b-4e94-9a5e-cac95fae91db",
   "metadata": {},
   "outputs": [],
   "source": [
    "vacancy['План 1_МП'] = vacancy['План 1_МП'].map(user_round)"
   ]
  },
  {
   "cell_type": "code",
   "execution_count": 21,
   "id": "ca5396b1-00c8-4f1d-8693-16964f2c348d",
   "metadata": {},
   "outputs": [],
   "source": [
    "vacancy = vacancy.merge(fo, on = 'Регион', how = 'left')"
   ]
  },
  {
   "cell_type": "code",
   "execution_count": 22,
   "id": "b0e7434d-dcab-41aa-8aab-9d5148175c00",
   "metadata": {},
   "outputs": [],
   "source": [
    "vacancy = vacancy.merge(dfu, on='DFU', how='left')"
   ]
  },
  {
   "cell_type": "code",
   "execution_count": 23,
   "id": "69049b63-a560-4889-8793-1a11af743a44",
   "metadata": {},
   "outputs": [],
   "source": [
    "vacancy = vacancy.merge(mp, on='ТМ', how='left')"
   ]
  },
  {
   "cell_type": "code",
   "execution_count": 24,
   "id": "d8ef00eb-ec99-4add-bfd6-0db9c5c701b5",
   "metadata": {},
   "outputs": [],
   "source": [
    "vacancy.drop(columns=['План,уп'], inplace=True)"
   ]
  },
  {
   "cell_type": "code",
   "execution_count": 25,
   "id": "05d5f7e6-7391-4eaa-b89b-846bd3adc81b",
   "metadata": {},
   "outputs": [],
   "source": [
    "vacancy = vacancy.rename(columns={'План 1_МП': 'План,уп'})"
   ]
  },
  {
   "cell_type": "markdown",
   "id": "75b4e910-a40c-47cf-9b50-765f079d2ce7",
   "metadata": {},
   "source": [
    "Из основного файла с планами удаляем неактуальную информацию по ТМ_1."
   ]
  },
  {
   "cell_type": "code",
   "execution_count": 26,
   "id": "a09ffd74-4f12-43b3-9561-1a2624e17cd3",
   "metadata": {},
   "outputs": [],
   "source": [
    "merge_plan = merge_plan.loc[~((merge_plan['Дата'] >= '2025-04-01') &\n",
    "                              (merge_plan['ТМ'] == 'ТМ_1') &\n",
    "                              (merge_plan['Регион'].isin(reg)))]"
   ]
  },
  {
   "cell_type": "markdown",
   "id": "8794eca2-f657-4d98-ba5c-bdadf8cdd7e2",
   "metadata": {},
   "source": [
    "К плану продаж добавляем актуальную информацию по ТМ_1."
   ]
  },
  {
   "cell_type": "code",
   "execution_count": 27,
   "id": "a31684ea-f05b-4110-a2c1-e4c9a4bef222",
   "metadata": {},
   "outputs": [],
   "source": [
    "merge_plan = pd.concat([merge_plan,vacancy],ignore_index=True)"
   ]
  },
  {
   "cell_type": "markdown",
   "id": "a19cad3b-07b9-4034-a060-1366bf431280",
   "metadata": {},
   "source": [
    "Для удобства коллег заменяем регионы на другое написание."
   ]
  },
  {
   "cell_type": "code",
   "execution_count": 28,
   "id": "38165f54-d5b4-48f0-8db1-169ed5bb255c",
   "metadata": {},
   "outputs": [],
   "source": [
    "merge_plan = merge_plan.merge(reg_sorex, how='left', on='Регион')\n",
    "merge_plan.drop(columns=['Регион'], inplace=True)"
   ]
  },
  {
   "cell_type": "markdown",
   "id": "b123ec19-2540-42a9-9879-aa0a6adce3c2",
   "metadata": {},
   "source": [
    "Добавляем цены, переводим упаковки в рубли."
   ]
  },
  {
   "cell_type": "code",
   "execution_count": 29,
   "id": "cbd8f789-e61b-4350-9b1a-c36a372b7131",
   "metadata": {},
   "outputs": [],
   "source": [
    "merge_plan = merge_plan.merge(price, how='left', on=['Дата', 'DFU'])"
   ]
  },
  {
   "cell_type": "code",
   "execution_count": 30,
   "id": "4da52290-ec14-45d4-8368-2179364a6f1c",
   "metadata": {},
   "outputs": [],
   "source": [
    "merge_plan['План,руб'] = merge_plan['План,уп']*merge_plan['Цена']"
   ]
  },
  {
   "cell_type": "code",
   "execution_count": 31,
   "id": "4e079fc2-3b6e-4d62-b0cb-1c66ae42f6f1",
   "metadata": {},
   "outputs": [],
   "source": [
    "merge_plan.to_excel('План ОПР_26032025.xlsx')"
   ]
  }
 ],
 "metadata": {
  "kernelspec": {
   "display_name": "Python 3 (ipykernel)",
   "language": "python",
   "name": "python3"
  },
  "language_info": {
   "codemirror_mode": {
    "name": "ipython",
    "version": 3
   },
   "file_extension": ".py",
   "mimetype": "text/x-python",
   "name": "python",
   "nbconvert_exporter": "python",
   "pygments_lexer": "ipython3",
   "version": "3.9.12"
  }
 },
 "nbformat": 4,
 "nbformat_minor": 5
}
